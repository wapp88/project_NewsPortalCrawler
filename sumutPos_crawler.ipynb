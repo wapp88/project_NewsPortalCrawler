{
 "cells": [
  {
   "cell_type": "code",
   "execution_count": 3,
   "metadata": {
    "collapsed": true
   },
   "outputs": [],
   "source": [
    "import bs4\n",
    "import pyodbc\n",
    "import time\n",
    "import datetime as dt\n",
    "from urllib.request import urlopen as uo\n",
    "from bs4 import BeautifulSoup as soup"
   ]
  },
  {
   "cell_type": "code",
   "execution_count": 4,
   "metadata": {
    "collapsed": true
   },
   "outputs": [],
   "source": [
    "base_url = \"https://kabarmedan.com\"\n",
    "berita_medan = \"/feed/\""
   ]
  },
  {
   "cell_type": "code",
   "execution_count": 5,
   "metadata": {
    "collapsed": true
   },
   "outputs": [],
   "source": [
    "def getNewsList():\n",
    "    url = \"https://sumutpos.co/feed/\"\n",
    "    uClient = uo(url)\n",
    "    list_page = uClient.read()\n",
    "    uClient.close()\n",
    "\n",
    "    page_soup = soup(list_page, \"xml\")\n",
    "    items = page_soup.findAll(\"item\")\n",
    "    for i in items:\n",
    "        news_link = i.find(\"link\").text\n",
    "        getNewsData(news_link)"
   ]
  },
  {
   "cell_type": "code",
   "execution_count": 13,
   "metadata": {
    "collapsed": true
   },
   "outputs": [],
   "source": [
    "def getNewsData(news_link):\n",
    "    uClient = uo(news_link)\n",
    "    news_page = uClient.read()\n",
    "    uClient.close()\n",
    "    \n",
    "    news_article = \"\"\n",
    "    counter = 0\n",
    "    page_soup = soup(news_page, \"html.parser\")\n",
    "    news_card = page_soup.find(\"div\", {\"class\":\"col-xs-12 c-single\"})\n",
    "    news_title = news_card.find(\"div\", {\"class\":\"ol-content-title-single\"}).text.replace(\"\\t\",\"\").replace(\"\\n\",\"\")\n",
    "    news_category = page_soup.findAll(\"li\", {\"class\":\"breadcumb-link\"})[1].text\n",
    "    news_author = None\n",
    "    news_editor = None\n",
    "    news_postedAt = news_card.find(\"li\", {\"class\":\"meta-single\"}).findAll(\"strong\")[0].text\n",
    "    news_article_raw = page_soup.findAll(\"p\")\n",
    "    for i in news_article_raw:\n",
    "        if len(i.text) > 50:\n",
    "            news_article = news_article + i.text.replace(\"no picture\",\"\")\n",
    "            if \"SUMUTPOS.CO\" in i.text:\n",
    "                news_location = i.text.split(\", \")[0].title()\n",
    "    news_crawledAt = dt.datetime.now()\n",
    "    news_image = news_card.find(\"img\")[\"data-permalink\"]\n",
    "    news_image_detail = page_soup.findAll(\"p\", {\"class\":\"wp-caption-text\"})[1].text\n",
    "    if news_image_detail in news_article:\n",
    "        news_article = news_article.replace(news_image_detail,\"\").strip()\n",
    "    news_id1 = news_link.split(\"/\")[6]\n",
    "    news_id2 = news_id1.split(\"-\")[0]\n",
    "    news_id3 = news_id2[:5]\n",
    "    news_id4 = news_link.split(\"/\")[5]\n",
    "    news_id5 = len(news_link)\n",
    "    news_id6 = str(news_id5)\n",
    "    news_id = news_id6+news_id3+news_id4\n",
    "    news_tags = page_soup.find(\"div\", {\"class\":\"text-tags\"}).text.split(\" :\")[1].replace(\"#\",\", \").strip()\n",
    "#     print(news_title)\n",
    "#     print(news_category)\n",
    "#     print(news_author)\n",
    "#     print(news_postedAt)\n",
    "#     print(news_location)\n",
    "#     print(news_article)\n",
    "#     print(news_crawledAt)\n",
    "#     print(news_image)\n",
    "#     print(news_id)\n",
    "#     print(news_editor)\n",
    "#     print(news_source)\n",
    "#     print(news_tags)\n",
    "\n",
    "\n",
    "    trigger = 0\n",
    "    trigger_tag = 0\n",
    "\n",
    "    c.execute(\"SELECT * FROM news_portal_sumutpos WHERE news_id=?\",news_id)\n",
    "    for row in c:\n",
    "        if row.news_id is not None:\n",
    "            trigger = 1\n",
    "            \n",
    "    if trigger == 0:\n",
    "        c.execute(\"\"\"INSERT INTO news_portal_sumutpos (news_id, news_category, news_header, news_author, news_editor, news_timestamp, \n",
    "                    news_article, news_url, news_created, news_location) VALUES (?, ?, ?, ?, ?, ?, ?, ?, ?, ?)\"\"\", \n",
    "                  (news_id, news_category, news_title, news_author, news_editor, news_postedAt, \n",
    "                    news_article, news_link, news_crawledAt, news_location))\n",
    "        conn.commit()\n",
    "        print(news_id)\n",
    "    else:\n",
    "        print(\"Data with that ID already existed.\")\n",
    "    trigger = 0\n",
    "    \n",
    "    c.execute(\"SELECT * FROM news_portal_sumutpos_tag WHERE news_id=?\",news_id)\n",
    "    for row in c:\n",
    "        if row.news_id is not None:\n",
    "            trigger_tag = 1\n",
    "            \n",
    "    if trigger_tag == 0:\n",
    "        c.execute(\"\"\"INSERT INTO news_portal_sumutpos_tag (news_id, news_tag, news_created, tag_url) VALUES (?, ?, ?, ?)\"\"\", \n",
    "                  (news_id, news_tags, news_created, tag_url))\n",
    "        conn.commit()\n",
    "    else:\n",
    "        print(\"Tag with that ID already existed.\")\n",
    "    trigger_tag = 0\n"
   ]
  },
  {
   "cell_type": "code",
   "execution_count": 8,
   "metadata": {
    "collapsed": true
   },
   "outputs": [],
   "source": []
  },
  {
   "cell_type": "code",
   "execution_count": 19,
   "metadata": {
    "collapsed": true
   },
   "outputs": [],
   "source": []
  },
  {
   "cell_type": "code",
   "execution_count": 9,
   "metadata": {
    "collapsed": true
   },
   "outputs": [],
   "source": [
    "def main():\n",
    "    getNewsList()"
   ]
  },
  {
   "cell_type": "code",
   "execution_count": 14,
   "metadata": {
    "collapsed": true
   },
   "outputs": [],
   "source": [
    "if __name__ == \"__main__\":\n",
    "    main()"
   ]
  },
  {
   "cell_type": "code",
   "execution_count": 10,
   "metadata": {
    "scrolled": true
   },
   "outputs": [
    {
     "name": "stdout",
     "output_type": "stream",
     "text": [
      "\r",
      "Ditangkap di Kamar Hotel, Andi Arief Berstatus Terperiksa\n",
      "Berita Foto2, Hukum & Kriminal, Nasional\n",
      "None\n",
      "Mar 4, 2019\n",
      "Jakarta\n",
      "88ditan04\n",
      "JAKARTA, SUMUTPOS.CO – Kepala Divisi Humas Mabes Polri Inspektur Jenderal M. Iqbal mengungkapkan bahwa politisi Demokrat Andi Arief berstatus terperiksa. Sebelumnya, Andi Arief ditangkap di Hotel Peninsula, Jakarta Barat, Minggu (3/3/2019) malam, karena kasus dugaan penggunaan narkoba. Iqbal mengatakan aparat kepolisian memiliki waktu 3 x 24 jam untuk menentukan status Andi Arief.“Ya kan kita ada mekanisme, ada lex spesialis, di dalam proses penegakan hukum di narkoba ini. 3 x 24 jam,” ungkap Iqbal usai jumpa pers di Mabes Polri, Jakarta, Senin (4/3/2019) sore.Hingga saat ini, kepolisian masih menduga bahwa Wakil Sekjen Partai Demokrat Andi Arief sebagai pengguna narkoba jenis sabu. Aparat belum menemukan bukti bahwa Andi terlibat peredaran narkoba. “Belum ditemukan bukti-bukti, fakta-fakta kuat apakah saudara AA berkolerasi dengan kelompok mana, mafia mana, dan lain-lain. Sampai saat ini diduga kuat saudara AA hanya sebatas pengguna,” ucap Iqbal.Jika dipastikan Andi Arief tidak terlibat peredaran narkoba, maka mantan Staf Khusus Presiden era pemerintahan Susilo Bambang Yudhoyono itu bisa dianggap korban. “Kemungkinan direhab karena dia korban,” kata Iqbal.Sebelumnya, Andi Arief ditangkap tim Direktorat Tindak Pidana Narkotika Bareskrim di salah satu kamar di Hotel Peninsula, Slipi, Jakarta, Minggu (3/3/2019) malam. Penggerebekan dilakukan setelah Kepolsian menerima informasi dari masyarakat. Setelah dilakukan tes urin, Andi Arief dinyatakan positif menggunakan sabu. (devina/kps)\n",
      "2019-03-06 13:34:46.278037\n",
      "https://sumutpos.co/2019/03/04/ditangkap-di-kamar-hotel-andi-arief-berstatus-terperiksa/andi-arief-2/\n",
      "\n"
     ]
    }
   ],
   "source": [
    "news_link = \"https://sumutpos.co/2019/03/04/ditangkap-di-kamar-hotel-andi-arief-berstatus-terperiksa/\"\n",
    "uClient = uo(news_link)\n",
    "news_page = uClient.read()\n",
    "uClient.close()\n",
    "\n",
    "news_article = \"\"\n",
    "counter = 0\n",
    "page_soup = soup(news_page, \"html.parser\")\n",
    "news_card = page_soup.find(\"div\", {\"class\":\"col-xs-12 c-single\"})\n",
    "news_title = news_card.find(\"div\", {\"class\":\"ol-content-title-single\"}).text.replace(\"\\t\",\"\").replace(\"\\n\",\"\")\n",
    "news_category = page_soup.findAll(\"li\", {\"class\":\"breadcumb-link\"})[1].text\n",
    "news_author = None\n",
    "news_editor = None\n",
    "news_source = None\n",
    "news_postedAt = news_card.find(\"li\", {\"class\":\"meta-single\"}).findAll(\"strong\")[0].text\n",
    "news_article_raw = page_soup.findAll(\"p\")[1:]\n",
    "for i in news_article_raw:\n",
    "    if len(i.text) > 150:\n",
    "        news_article = news_article + i.text.replace(\"no picture\",\"\")\n",
    "        if \"SUMUTPOS.CO\" in i.text:\n",
    "            news_location = i.find(\"strong\").text.split(\", \")[0].title()\n",
    "news_crawledAt = dt.datetime.now()\n",
    "news_image = news_card.find(\"img\")[\"data-permalink\"]\n",
    "news_image_detail = page_soup.findAll(\"p\", {\"class\":\"wp-caption-text\"})[1].text.strip()\n",
    "if news_image_detail in news_article:\n",
    "    news_article = news_article.replace(news_image_detail,\"\").strip()\n",
    "news_id1 = news_link.split(\"/\")[6]\n",
    "news_id2 = news_id1.split(\"-\")[0]\n",
    "news_id3 = news_id2[:5]\n",
    "news_id4 = news_link.split(\"/\")[5]\n",
    "news_id5 = len(news_link)\n",
    "news_id6 = str(news_id5)\n",
    "news_id = news_id6+news_id3+news_id4\n",
    "\n",
    "\n",
    "news_tags = page_soup.find(\"div\", {\"class\":\"text-tags\"}).text.split(\" :\")[1].replace(\"#\",\", \").strip()\n",
    "test = page_soup.findAll(\"p\", {\"class\":\"wp-caption-text\"})[1].text\n",
    "\n",
    "\n",
    "print(news_title)\n",
    "print(news_category)\n",
    "print(news_author)\n",
    "print(news_postedAt)\n",
    "print(news_location)\n",
    "print(news_id)\n",
    "print(news_article)\n",
    "print(news_crawledAt)\n",
    "print(news_image)\n",
    "print(news_tags)"
   ]
  },
  {
   "cell_type": "code",
   "execution_count": null,
   "metadata": {
    "collapsed": true
   },
   "outputs": [],
   "source": []
  },
  {
   "cell_type": "code",
   "execution_count": null,
   "metadata": {
    "collapsed": true
   },
   "outputs": [],
   "source": []
  }
 ],
 "metadata": {
  "kernelspec": {
   "display_name": "Python 3",
   "language": "python",
   "name": "python3"
  },
  "language_info": {
   "codemirror_mode": {
    "name": "ipython",
    "version": 3
   },
   "file_extension": ".py",
   "mimetype": "text/x-python",
   "name": "python",
   "nbconvert_exporter": "python",
   "pygments_lexer": "ipython3",
   "version": "3.6.1"
  }
 },
 "nbformat": 4,
 "nbformat_minor": 2
}
